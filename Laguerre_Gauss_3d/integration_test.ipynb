{
 "cells": [
  {
   "cell_type": "markdown",
   "metadata": {},
   "source": [
    "# Test quality of initial field distribution\n",
    "\n",
    "- check Meep's integration routine\n",
    "- check implementation of Laguerre-Gauss beam fields\n",
    "- check transition from cartesian to spherical coordinates"
   ]
  },
  {
   "cell_type": "code",
   "execution_count": 5,
   "metadata": {},
   "outputs": [],
   "source": [
    "import numpy as np\n",
    "import scipy as sp\n",
    "\n",
    "from scipy.integrate import dblquad\n",
    "\n",
    "def complex_dblquad(func, a, b, gfun, hfun, **kwargs):\n",
    "    \"\"\"Integrates the real and imaginary part of the given function.\"\"\"\n",
    "    def real_func(x, y):\n",
    "        return sp.real(func(x, y))\n",
    "    def imag_func(x, y):\n",
    "        return sp.imag(func(x, y))\n",
    "    \n",
    "    def real_integral():\n",
    "        return dblquad(real_func, a, b, gfun, hfun, **kwargs)\n",
    "    def imag_integral():\n",
    "        return dblquad(imag_func, a, b, gfun, hfun, **kwargs)\n",
    "    \n",
    "    return (real_integral()[0] + 1j * imag_integral()[0], real_integral()[1:], imag_integral()[1:])\n",
    "\n",
    "\n",
    "def f_Gauss_cartesian(W_y, k_y, k_z): \n",
    "    \"\"\"\n",
    "    \"\"\"\n",
    "    return sp.exp(-(W_y ** 2) * (k_y ** 2 + k_z ** 2) / 4)\n",
    "\n",
    "def f_Gauss_spherical(W_y, theta):\n",
    "    \"\"\"\n",
    "    \"\"\"\n",
    "    return sp.exp(-((k1 * W_y) * theta / 2) ** 2)\n",
    "\n",
    "def f_Laguerre_Gauss_cartesian(W_y, m, k_y, k_z):\n",
    "    \"\"\"\n",
    "    \"\"\"\n",
    "    k_x = sp.sqrt(k1**2 - k_y**2 - k_z**2)\n",
    "    \n",
    "    phi   = np.arctan2(k_y / k1, -k_z / k1)\n",
    "    theta = np.arccos(k_x / k1)\n",
    "    \n",
    "    return f_Gauss_cartesian(W_y, k_y, k_z) * (theta ** np.abs(m)) * sp.exp(1j * m * phi)\n",
    "\n",
    "def f_Laguerre_Gauss_spherical(W_y, m, theta, phi):\n",
    "    \"\"\"\n",
    "    \"\"\"\n",
    "    return f_Gauss_spherical(W_y, theta) * (theta ** np.abs(m)) * sp.exp(1j * m * phi)\n",
    "\n",
    "def integrand_cartesian(x, y, z, k_y, k_z):\n",
    "    \"\"\"\n",
    "    \"\"\"\n",
    "    ## first variant (taking the real part of the suqare root)\n",
    "    #return f_Gauss_cartesian(w_0, k_y, k_z) * sp.exp(1.0j * (x * (sp.sqrt(k**2 - k_y**2 - k_z**2).real) + \n",
    "    #                                                         y * k_y + \n",
    "    #                                                         z * k_z))\n",
    "    \n",
    "    ## second variant (leave square root as is, but perform second integration with non-constant bounds)\n",
    "    ## Gauss\n",
    "    #k_x = sp.sqrt(k1**2 - k_y**2 - k_z**2)\n",
    "    #return f_Gauss_cartesian(w_0, k_y, k_z) * sp.exp(1.0j * (x * k_x + y * k_y + z * k_z))\n",
    "    \n",
    "    ## Laguerre-Gauss\n",
    "    k_x = sp.sqrt(k1**2 - k_y**2 - k_z**2)\n",
    "    return f_Laguerre_Gauss_cartesian(w_0, m_charge, k_y, k_z) * sp.exp(1j * (x * k_x + y * k_y + z * k_z))\n",
    "\n",
    "def integrand_spherical(x, y, z, theta, phi):\n",
    "    \"\"\"\n",
    "    \"\"\"\n",
    "    return (k1 ** 2) * np.sin(theta) * np.cos(theta) * f_Laguerre_Gauss_spherical(w_0, m_charge, theta, phi) * \\\n",
    "           sp.exp(1j * k1 * (np.sin(theta) * (y * np.sin(phi) - z * np.cos(phi)) + np.cos(theta) * x))\n",
    "\n",
    "def psi_cartesian(x, y, z):\n",
    "    \"\"\"\n",
    "    \"\"\"\n",
    "    integrand_ = lambda k_y, k_z: integrand_cartesian(x, y, z, k_y, k_z)\n",
    "    \n",
    "    ## constant integration bounds (appropriate for first variant)\n",
    "    #return complex_dblquad(integrand_, -k1, k1, lambda x: -k1, lambda x: k1)[0]\n",
    "    \n",
    "    ## non-constant integration bounds (appropriate for second variant)\n",
    "    return complex_dblquad(integrand_, -k1, k1, lambda x: -np.sqrt(k1**2 - x**2), lambda x: np.sqrt(k1**2 - x**2))[0]\n",
    "    \n",
    "def psi_spherical(x, y, z):\n",
    "    \"\"\"\n",
    "    \"\"\"\n",
    "    integrand_ =  lambda phi, theta: integrand_spherical(x, y, z, theta, phi)\n",
    "    \n",
    "    return complex_dblquad(integrand_, 0.0, np.pi/2, lambda x: 0.0, lambda x: 2*np.pi)[0]\n",
    "    \n",
    "vec_psi_cartesian = np.vectorize(psi_cartesian)\n",
    "vec_psi_spherical = np.vectorize(psi_spherical)"
   ]
  },
  {
   "cell_type": "code",
   "execution_count": 2,
   "metadata": {},
   "outputs": [
    {
     "name": "stdout",
     "output_type": "stream",
     "text": [
      "Gauss spectrum (cartesian):  0.4915156506227086\n",
      "Gauss spectrum (spherical):  2.3981973818259543e-08\n",
      "\n",
      "\n",
      "L-G spectrum   (cartesian):  (0.020569898693719644-0.008215320522837338j)\n",
      "L-G spectrum   (spherical):  (1.61036015580364e-24+2.6299177149278234e-08j)\n",
      "\n",
      "\n",
      "integrand      (cartesian):  (0.005202338495537065+0.016220638008745885j)\n",
      "integrand      (spherical):  (-6.9683641055012705e-06+1.7844098580726288e-06j)\n",
      "\n",
      "\n",
      "psi            (cartesian):  (1.3958238989982532-0.02790124125433349j)\n",
      "psi            (spherical):  (1.3531562552744156-0.08157677201320651j)\n"
     ]
    }
   ],
   "source": [
    "%time\n",
    "## test paramters (free space propagation, i.e. n1=n2=n_ref=1)\n",
    "kw_0     = 8\n",
    "m_charge = 2\n",
    "n1       = 1\n",
    "\n",
    "## meep specific\n",
    "freq    = 4\n",
    "x_shift = -2.15\n",
    "\n",
    "## derived values\n",
    "k_vac = 2 * np.pi * freq\n",
    "k1    = n1 * k_vac\n",
    "w_0   = kw_0 / k_vac\n",
    "\n",
    "print(\"Gauss spectrum (cartesian): \", f_Gauss_cartesian(w_0, 1.0, 5.2))\n",
    "print(\"Gauss spectrum (spherical): \", f_Gauss_spherical(w_0, np.pi/3))\n",
    "print(\"\\n\")\n",
    "print(\"L-G spectrum   (cartesian): \", f_Laguerre_Gauss_cartesian(w_0, m_charge, 1.0, 5.2))\n",
    "print(\"L-G spectrum   (spherical): \", f_Laguerre_Gauss_spherical(w_0, m_charge, np.pi/3, np.pi/4))\n",
    "print(\"\\n\")\n",
    "print(\"integrand      (cartesian): \", integrand_cartesian(x_shift, 0.3, 0.5, 4.0, 0.0))\n",
    "print(\"integrand      (spherical): \", integrand_spherical(x_shift, 0.3, 0.5, np.pi/3, np.pi/4))\n",
    "print(\"\\n\")\n",
    "print(\"psi            (cartesian): \", psi_cartesian(x_shift, 0.3, 0.5))\n",
    "print(\"psi            (spherical): \", psi_spherical(x_shift, 0.3, 0.5))"
   ]
  },
  {
   "cell_type": "code",
   "execution_count": 8,
   "metadata": {},
   "outputs": [
    {
     "name": "stdout",
     "output_type": "stream",
     "text": [
      "CPU times: user 0 ns, sys: 0 ns, total: 0 ns\n",
      "Wall time: 6.44 µs\n"
     ]
    },
    {
     "data": {
      "image/png": "[encoded data removed]",
      "text/plain": [
       "<Figure size 432x288 with 1 Axes>"
      ]
     },
     "metadata": {
      "needs_background": "light"
     },
     "output_type": "display_data"
    }
   ],
   "source": [
    "%time\n",
    "%matplotlib inline\n",
    "import matplotlib.pyplot as plt\n",
    "\n",
    "#-----------------------------------\n",
    "#K_y = np.linspace(-k1, k1, 100)\n",
    "#INTEGRAND = integrand_cartesian(x_shift, 0.0, 0.0, K_y, 0.0)\n",
    "#plt.plot(K_y, INTEGRAND.real)\n",
    "#plt.plot(K_y, INTEGRAND.imag)\n",
    "\n",
    "Z = np.linspace(-2, 2, 50)\n",
    "PSI = vec_psi_spherical(-2.0, 0.0, Z)   # at origin\n",
    "#np.save('PSI.npy', PSI)\n",
    "#np.load('PSI.npy')\n",
    "\n",
    "#np.save('PSIz_spherical_m_2_x_-2.npy', PSI)\n",
    "#PSI = np.load('PSI_cartesian.npy')\n",
    "\n",
    "#np.save('PSIy_spherical_m_2.npy', PSI)\n",
    "#PSI = np.load('PSIy_spherical_m_2.npy')\n",
    "\n",
    "#print(PSI)\n",
    "\n",
    "plt.plot(Z, PSI.real,    label='real', marker='x')\n",
    "plt.plot(Z, PSI.imag,    label='imag')\n",
    "plt.plot(Z, np.abs(PSI), label='abs', marker='o')\n",
    "plt.legend()\n",
    "plt.show();"
   ]
  },
  {
   "cell_type": "code",
   "execution_count": null,
   "metadata": {},
   "outputs": [],
   "source": []
  }
 ],
 "metadata": {
  "kernelspec": {
   "display_name": "Python 3",
   "language": "python",
   "name": "python3"
  },
  "language_info": {
   "codemirror_mode": {
    "name": "ipython",
    "version": 3
   },
   "file_extension": ".py",
   "mimetype": "text/x-python",
   "name": "python",
   "nbconvert_exporter": "python",
   "pygments_lexer": "ipython3",
   "version": "3.7.4"
  }
 },
 "nbformat": 4,
 "nbformat_minor": 4
}
